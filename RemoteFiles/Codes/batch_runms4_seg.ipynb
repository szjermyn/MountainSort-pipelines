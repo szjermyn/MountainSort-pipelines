{
 "cells": [
  {
   "cell_type": "code",
   "execution_count": 9,
   "metadata": {},
   "outputs": [],
   "source": [
    "import mountainsortbox as msb\n",
    "import mountainsort4 as ms4\n",
    "from mountainlab_pytools import mlproc as mlp\n",
    "from mountainlab_pytools import mdaio\n",
    "import spikeforestwidgets as SFW"
   ]
  },
  {
   "cell_type": "code",
   "execution_count": 10,
   "metadata": {},
   "outputs": [],
   "source": [
    "# Change these variables for each sorting session\n",
    "\n",
    "rawfolder = '/tmp/.x2go-jsee/media/disk/_cygdrive_C_Users_Jermyn_BANSHE1/MSInput/ThalCort/Cort'\n",
    "datapath = '/home/jsee/MountainSort/datasets/input/ThalCort'\n",
    "outputpath = '/home/jsee/MountainSort/datasets/output/ThalCort'\n",
    "resultsfolder = '/tmp/.x2go-jsee/media/disk/_cygdrive_C_Users_Jermyn_BANSHE1/MSResults/ThalCort'\n",
    "detect_threshold = 3\n"
   ]
  },
  {
   "cell_type": "code",
   "execution_count": 3,
   "metadata": {},
   "outputs": [
    {
     "data": {
      "application/vnd.jupyter.widget-view+json": {
       "model_id": "a99e7522159c4700bc9e977ddca49b1c",
       "version_major": 2,
       "version_minor": 0
      },
      "text/plain": [
       "JSProxyWidget(status='Not yet rendered')"
      ]
     },
     "metadata": {},
     "output_type": "display_data"
    }
   ],
   "source": [
    "Pipeline=mlp.initPipeline()"
   ]
  },
  {
   "cell_type": "code",
   "execution_count": 11,
   "metadata": {},
   "outputs": [
    {
     "name": "stdout",
     "output_type": "stream",
     "text": [
      "Creating input folders...\n",
      "Copying files for dataset 1 of 6...\n",
      "raw.mda file in /home/jsee/MountainSort/datasets/input/ThalCort/180419_200353-site1-1010um-20db-spon-14min-H2_2x32-fs20000-mountainsort already copied! Skipping...\n",
      "Copying files for dataset 2 of 6...\n",
      "raw.mda file in /home/jsee/MountainSort/datasets/input/ThalCort/180419_202027-site1-1010um-17db-rn1-10min-H2_2x32-fs20000-mountainsort already copied! Skipping...\n",
      "Copying files for dataset 3 of 6...\n",
      "raw.mda file in /home/jsee/MountainSort/datasets/input/ThalCort/180419_225040-site2-1000um-20db-spon-10min-H2_2x32-fs20000-mountainsort already copied! Skipping...\n",
      "Copying files for dataset 4 of 6...\n",
      "raw.mda file in /home/jsee/MountainSort/datasets/input/ThalCort/180419_230150-site2-1000um-17db-rn1-10min-H2_2x32-fs20000-mountainsort already copied! Skipping...\n",
      "Copying files for dataset 5 of 6...\n",
      "raw.mda file in /home/jsee/MountainSort/datasets/input/ThalCort/180420_012413-site3-1041um-20db-spon-11min-H2_2x32-fs20000-mountainsort already copied! Skipping...\n",
      "Copying files for dataset 6 of 6...\n",
      "raw.mda file in /home/jsee/MountainSort/datasets/input/ThalCort/180420_013515-site3-1041um-17db-rn1-10min-H2_2x32-fs20000-mountainsort already copied! Skipping...\n",
      "Creating combined folders...\n",
      "Writing combined raw .mda files for dataset 1 of 3...\n",
      "100000000 samples processed\n",
      "200000000 samples processed\n",
      "300000000 samples processed\n",
      "400000000 samples processed\n",
      "500000000 samples processed\n",
      "600000000 samples processed\n",
      "700000000 samples processed\n",
      "800000000 samples processed\n",
      "900000000 samples processed\n",
      "1000000000 samples processed\n",
      "1100000000 samples processed\n",
      "100000000 samples processed\n",
      "200000000 samples processed\n",
      "300000000 samples processed\n",
      "400000000 samples processed\n",
      "500000000 samples processed\n",
      "600000000 samples processed\n",
      "700000000 samples processed\n",
      "800000000 samples processed\n",
      "Writing combined raw .mda files for dataset 2 of 3...\n",
      "100000000 samples processed\n",
      "200000000 samples processed\n",
      "300000000 samples processed\n",
      "400000000 samples processed\n",
      "500000000 samples processed\n",
      "600000000 samples processed\n",
      "700000000 samples processed\n",
      "800000000 samples processed\n",
      "900000000 samples processed\n",
      "100000000 samples processed\n",
      "200000000 samples processed\n",
      "300000000 samples processed\n",
      "400000000 samples processed\n",
      "500000000 samples processed\n",
      "600000000 samples processed\n",
      "700000000 samples processed\n",
      "800000000 samples processed\n",
      "Writing combined raw .mda files for dataset 3 of 3...\n",
      "100000000 samples processed\n",
      "200000000 samples processed\n",
      "300000000 samples processed\n",
      "400000000 samples processed\n",
      "500000000 samples processed\n",
      "600000000 samples processed\n",
      "700000000 samples processed\n",
      "800000000 samples processed\n",
      "900000000 samples processed\n",
      "100000000 samples processed\n",
      "200000000 samples processed\n",
      "300000000 samples processed\n",
      "400000000 samples processed\n",
      "500000000 samples processed\n",
      "600000000 samples processed\n",
      "700000000 samples processed\n",
      "800000000 samples processed\n"
     ]
    }
   ],
   "source": [
    "inputlist, outputlist, combinedfolders = msb.prepare_mountainsort_files(rawfolder=rawfolder, datapath=datapath, outputpath=outputpath, combineopt=True)"
   ]
  },
  {
   "cell_type": "code",
   "execution_count": 12,
   "metadata": {},
   "outputs": [
    {
     "data": {
      "application/vnd.jupyter.widget-view+json": {
       "model_id": "92f2f11565484fd19e1365eda441c25e",
       "version_major": 2,
       "version_minor": 0
      },
      "text/plain": [
       "Output()"
      ]
     },
     "metadata": {},
     "output_type": "display_data"
    },
    {
     "name": "stdout",
     "output_type": "stream",
     "text": [
      "Finished pipeline.\n"
     ]
    },
    {
     "data": {
      "application/vnd.jupyter.widget-view+json": {
       "model_id": "8c395269c69f4ced9d00174e26effe63",
       "version_major": 2,
       "version_minor": 0
      },
      "text/plain": [
       "Output()"
      ]
     },
     "metadata": {},
     "output_type": "display_data"
    },
    {
     "name": "stdout",
     "output_type": "stream",
     "text": [
      "Finished pipeline.\n"
     ]
    },
    {
     "data": {
      "application/vnd.jupyter.widget-view+json": {
       "model_id": "a220e48537af46199ea4b3baddf904f6",
       "version_major": 2,
       "version_minor": 0
      },
      "text/plain": [
       "Output()"
      ]
     },
     "metadata": {},
     "output_type": "display_data"
    },
    {
     "name": "stdout",
     "output_type": "stream",
     "text": [
      "Finished pipeline.\n"
     ]
    }
   ],
   "source": [
    "timeseries_list = []\n",
    "firings_list = []\n",
    "offsets = []\n",
    "\n",
    "for il, ol, cf in zip(inputlist, outputlist, combinedfolders):\n",
    "    with Pipeline:\n",
    "        temp = ms4.sort_dataset_segments_part1(il, ol, cf, detect_threshold=detect_threshold)\n",
    "        timeseries_list.append(temp[0])\n",
    "        firings_list.append(temp[1])\n",
    "        offsets.append(temp[2])\n",
    "        "
   ]
  },
  {
   "cell_type": "code",
   "execution_count": 13,
   "metadata": {},
   "outputs": [
    {
     "name": "stdout",
     "output_type": "stream",
     "text": [
      "RUNNING: ml-run-process pyms.anneal_segments --inputs firings_list:/home/jsee/MountainSort/datasets/output/ThalCort/180419_200353-site1-1010um-20db-spon-14min-H2_2x32-fs20000-firings/firings_uncurated.mda firings_list:/home/jsee/MountainSort/datasets/output/ThalCort/180419_202027-site1-1010um-17db-rn1-10min-H2_2x32-fs20000-firings/firings_uncurated.mda timeseries_list:/home/jsee/MountainSort/datasets/output/ThalCort/180419_200353-site1-1010um-20db-spon-14min-H2_2x32-fs20000-firings/pre.mda.prv timeseries_list:/home/jsee/MountainSort/datasets/output/ThalCort/180419_202027-site1-1010um-17db-rn1-10min-H2_2x32-fs20000-firings/pre.mda.prv --parameters time_offsets:0,17164800 --outputs dmatrix_out:/home/jsee/MountainSort/tmp/mountainlab/tmp_short_term/output_dmatrix_out_55878d226c25dfff0da3d5e24848487cf490d476.prv dmatrix_templates_out:/home/jsee/MountainSort/tmp/mountainlab/tmp_short_term/output_dmatrix_templates_out_55878d226c25dfff0da3d5e24848487cf490d476.prv firings_out:/home/jsee/MountainSort/datasets/output/ThalCort/180419_200353-site1-1010um-20db-spon_rn1-24min-H2_2x32-fs20000-firings/firings_uncurated.mda k1_dmatrix_out:/home/jsee/MountainSort/tmp/mountainlab/tmp_short_term/output_k1_dmatrix_out_55878d226c25dfff0da3d5e24848487cf490d476.prv k2_dmatrix_out:/home/jsee/MountainSort/tmp/mountainlab/tmp_short_term/output_k2_dmatrix_out_55878d226c25dfff0da3d5e24848487cf490d476.prv\n",
      "\u001b[34m[ Getting processor spec... ]\u001b[0m\n",
      "\u001b[31m/home/jsee/conda/envs/mlab/lib/python3.6/importlib/_bootstrap.py:219: RuntimeWarning: numpy.dtype size changed, may indicate binary incompatibility. Expected 96, got 88\u001b[0m\n",
      "\u001b[34m[ Checking inputs and substituting prvs ... ]\u001b[0m\n",
      "\u001b[31mreturn f(*args, **kwds)\u001b[0m\n",
      "\u001b[34m[ Computing process signature ... ]\u001b[0m\n",
      "\u001b[31m/home/jsee/conda/envs/mlab/lib/python3.6/importlib/_bootstrap.py:219: RuntimeWarning: numpy.dtype size changed, may indicate binary incompatibility. Expected 96, got 88\u001b[0m\n",
      "\u001b[34mProcess signature: bb587e4d0e0b83705e48c9b79b296383c80875df\u001b[0m\n",
      "\u001b[31mreturn f(*args, **kwds)\u001b[0m\n",
      "\u001b[34m[ Checking outputs... ]\u001b[0m\n",
      "\u001b[31m\u001b[0m\n",
      "\u001b[34m{\"dmatrix_out\":\"/home/jsee/MountainSort/tmp/mountainlab/tmp_short_term/output_dmatrix_out_55878d226c25dfff0da3d5e24848487cf490d476.prv\",\"dmatrix_templates_out\":\"/home/jsee/MountainSort/tmp/mountainlab/tmp_short_term/output_dmatrix_templates_out_55878d226c25dfff0da3d5e24848487cf490d476.prv\",\"firings_out\":\"/home/jsee/MountainSort/datasets/output/ThalCort/180419_200353-site1-1010um-20db-spon_rn1-24min-H2_2x32-fs20000-firings/firings_uncurated.mda\",\"k1_dmatrix_out\":\"/home/jsee/MountainSort/tmp/mountainlab/tmp_short_term/output_k1_dmatrix_out_55878d226c25dfff0da3d5e24848487cf490d476.prv\",\"k2_dmatrix_out\":\"/home/jsee/MountainSort/tmp/mountainlab/tmp_short_term/output_k2_dmatrix_out_55878d226c25dfff0da3d5e24848487cf490d476.prv\"}\u001b[0m\n",
      "\u001b[34mProcessing ouput - /home/jsee/MountainSort/tmp/mountainlab/tmp_short_term/output_dmatrix_out_55878d226c25dfff0da3d5e24848487cf490d476.prv\u001b[0m\n",
      "\u001b[34mfalse\u001b[0m\n",
      "\u001b[34m{\"dmatrix_out\":\"/home/jsee/MountainSort/tmp/output_bb587e4d0e0b83705e48c9b79b296383c80875df_dmatrix_out.output_dmatrix_out_55878d226c25dfff0da3d5e24848487cf490d476\",\"dmatrix_templates_out\":\"/home/jsee/MountainSort/tmp/mountainlab/tmp_short_term/output_dmatrix_templates_out_55878d226c25dfff0da3d5e24848487cf490d476.prv\",\"firings_out\":\"/home/jsee/MountainSort/datasets/output/ThalCort/180419_200353-site1-1010um-20db-spon_rn1-24min-H2_2x32-fs20000-firings/firings_uncurated.mda\",\"k1_dmatrix_out\":\"/home/jsee/MountainSort/tmp/mountainlab/tmp_short_term/output_k1_dmatrix_out_55878d226c25dfff0da3d5e24848487cf490d476.prv\",\"k2_dmatrix_out\":\"/home/jsee/MountainSort/tmp/mountainlab/tmp_short_term/output_k2_dmatrix_out_55878d226c25dfff0da3d5e24848487cf490d476.prv\"}\u001b[0m\n",
      "\u001b[34mProcessing ouput - /home/jsee/MountainSort/tmp/mountainlab/tmp_short_term/output_dmatrix_templates_out_55878d226c25dfff0da3d5e24848487cf490d476.prv\u001b[0m\n",
      "\u001b[34mfalse\u001b[0m\n",
      "\u001b[34m{\"dmatrix_out\":\"/home/jsee/MountainSort/tmp/output_bb587e4d0e0b83705e48c9b79b296383c80875df_dmatrix_out.output_dmatrix_out_55878d226c25dfff0da3d5e24848487cf490d476\",\"dmatrix_templates_out\":\"/home/jsee/MountainSort/tmp/output_bb587e4d0e0b83705e48c9b79b296383c80875df_dmatrix_templates_out.output_dmatrix_templates_out_55878d226c25dfff0da3d5e24848487cf490d476\",\"firings_out\":\"/home/jsee/MountainSort/datasets/output/ThalCort/180419_200353-site1-1010um-20db-spon_rn1-24min-H2_2x32-fs20000-firings/firings_uncurated.mda\",\"k1_dmatrix_out\":\"/home/jsee/MountainSort/tmp/mountainlab/tmp_short_term/output_k1_dmatrix_out_55878d226c25dfff0da3d5e24848487cf490d476.prv\",\"k2_dmatrix_out\":\"/home/jsee/MountainSort/tmp/mountainlab/tmp_short_term/output_k2_dmatrix_out_55878d226c25dfff0da3d5e24848487cf490d476.prv\"}\u001b[0m\n",
      "\u001b[34mProcessing ouput - /home/jsee/MountainSort/datasets/output/ThalCort/180419_200353-site1-1010um-20db-spon_rn1-24min-H2_2x32-fs20000-firings/firings_uncurated.mda\u001b[0m\n",
      "\u001b[34mfalse\u001b[0m\n",
      "\u001b[34m{\"dmatrix_out\":\"/home/jsee/MountainSort/tmp/output_bb587e4d0e0b83705e48c9b79b296383c80875df_dmatrix_out.output_dmatrix_out_55878d226c25dfff0da3d5e24848487cf490d476\",\"dmatrix_templates_out\":\"/home/jsee/MountainSort/tmp/output_bb587e4d0e0b83705e48c9b79b296383c80875df_dmatrix_templates_out.output_dmatrix_templates_out_55878d226c25dfff0da3d5e24848487cf490d476\",\"firings_out\":\"/home/jsee/MountainSort/datasets/output/ThalCort/180419_200353-site1-1010um-20db-spon_rn1-24min-H2_2x32-fs20000-firings/firings_uncurated.mda\",\"k1_dmatrix_out\":\"/home/jsee/MountainSort/tmp/mountainlab/tmp_short_term/output_k1_dmatrix_out_55878d226c25dfff0da3d5e24848487cf490d476.prv\",\"k2_dmatrix_out\":\"/home/jsee/MountainSort/tmp/mountainlab/tmp_short_term/output_k2_dmatrix_out_55878d226c25dfff0da3d5e24848487cf490d476.prv\"}\u001b[0m\n",
      "\u001b[34mProcessing ouput - /home/jsee/MountainSort/tmp/mountainlab/tmp_short_term/output_k1_dmatrix_out_55878d226c25dfff0da3d5e24848487cf490d476.prv\u001b[0m\n",
      "\u001b[34mfalse\u001b[0m\n",
      "\u001b[34m{\"dmatrix_out\":\"/home/jsee/MountainSort/tmp/output_bb587e4d0e0b83705e48c9b79b296383c80875df_dmatrix_out.output_dmatrix_out_55878d226c25dfff0da3d5e24848487cf490d476\",\"dmatrix_templates_out\":\"/home/jsee/MountainSort/tmp/output_bb587e4d0e0b83705e48c9b79b296383c80875df_dmatrix_templates_out.output_dmatrix_templates_out_55878d226c25dfff0da3d5e24848487cf490d476\",\"firings_out\":\"/home/jsee/MountainSort/datasets/output/ThalCort/180419_200353-site1-1010um-20db-spon_rn1-24min-H2_2x32-fs20000-firings/firings_uncurated.mda\",\"k1_dmatrix_out\":\"/home/jsee/MountainSort/tmp/output_bb587e4d0e0b83705e48c9b79b296383c80875df_k1_dmatrix_out.output_k1_dmatrix_out_55878d226c25dfff0da3d5e24848487cf490d476\",\"k2_dmatrix_out\":\"/home/jsee/MountainSort/tmp/mountainlab/tmp_short_term/output_k2_dmatrix_out_55878d226c25dfff0da3d5e24848487cf490d476.prv\"}\u001b[0m\n",
      "\u001b[34mProcessing ouput - /home/jsee/MountainSort/tmp/mountainlab/tmp_short_term/output_k2_dmatrix_out_55878d226c25dfff0da3d5e24848487cf490d476.prv\u001b[0m\n",
      "\u001b[34mfalse\u001b[0m\n",
      "\u001b[34m{\"dmatrix_out\":\"/home/jsee/MountainSort/tmp/output_bb587e4d0e0b83705e48c9b79b296383c80875df_dmatrix_out.output_dmatrix_out_55878d226c25dfff0da3d5e24848487cf490d476\",\"dmatrix_templates_out\":\"/home/jsee/MountainSort/tmp/output_bb587e4d0e0b83705e48c9b79b296383c80875df_dmatrix_templates_out.output_dmatrix_templates_out_55878d226c25dfff0da3d5e24848487cf490d476\",\"firings_out\":\"/home/jsee/MountainSort/datasets/output/ThalCort/180419_200353-site1-1010um-20db-spon_rn1-24min-H2_2x32-fs20000-firings/firings_uncurated.mda\",\"k1_dmatrix_out\":\"/home/jsee/MountainSort/tmp/output_bb587e4d0e0b83705e48c9b79b296383c80875df_k1_dmatrix_out.output_k1_dmatrix_out_55878d226c25dfff0da3d5e24848487cf490d476\",\"k2_dmatrix_out\":\"/home/jsee/MountainSort/tmp/output_bb587e4d0e0b83705e48c9b79b296383c80875df_k2_dmatrix_out.output_k2_dmatrix_out_55878d226c25dfff0da3d5e24848487cf490d476\"}\u001b[0m\n",
      "\u001b[34m[ Checking process cache ... ]\u001b[0m\n",
      "\u001b[34m[ Creating temporary directory ... ]\u001b[0m\n",
      "\u001b[34m[ Creating links to input files... ]\u001b[0m\n",
      "\u001b[34m[ Preparing temporary outputs... ]\u001b[0m\n",
      "\u001b[34mProcessing ouput - /home/jsee/MountainSort/tmp/output_bb587e4d0e0b83705e48c9b79b296383c80875df_dmatrix_out.output_dmatrix_out_55878d226c25dfff0da3d5e24848487cf490d476\u001b[0m\n",
      "\u001b[34mfalse\u001b[0m\n",
      "\u001b[34mProcessing ouput - /home/jsee/MountainSort/tmp/output_bb587e4d0e0b83705e48c9b79b296383c80875df_dmatrix_templates_out.output_dmatrix_templates_out_55878d226c25dfff0da3d5e24848487cf490d476\u001b[0m\n",
      "\u001b[34mfalse\u001b[0m\n",
      "\u001b[34mProcessing ouput - /home/jsee/MountainSort/datasets/output/ThalCort/180419_200353-site1-1010um-20db-spon_rn1-24min-H2_2x32-fs20000-firings/firings_uncurated.mda\u001b[0m\n",
      "\u001b[34mfalse\u001b[0m\n",
      "\u001b[34mProcessing ouput - /home/jsee/MountainSort/tmp/output_bb587e4d0e0b83705e48c9b79b296383c80875df_k1_dmatrix_out.output_k1_dmatrix_out_55878d226c25dfff0da3d5e24848487cf490d476\u001b[0m\n",
      "\u001b[34mfalse\u001b[0m\n",
      "\u001b[34mProcessing ouput - /home/jsee/MountainSort/tmp/output_bb587e4d0e0b83705e48c9b79b296383c80875df_k2_dmatrix_out.output_k2_dmatrix_out_55878d226c25dfff0da3d5e24848487cf490d476\u001b[0m\n",
      "\u001b[34mfalse\u001b[0m\n",
      "\u001b[34m[ Initializing process ... ]\u001b[0m\n",
      "\u001b[34m[ Running ... ] /home/jsee/conda/envs/mlab/bin/python3 /home/jsee/.mountainlab/packages/franklab-franklab_msdrift-f950485710c2/python/drift.py pyms.anneal_segments --_tempdir=/home/jsee/MountainSort/tmp/tempdir_bb587e4d0e_L9cUEn --firings_list=/home/jsee/MountainSort/tmp/tempdir_bb587e4d0e_L9cUEn/input_firings_list-0_0K3kM4Ld.mda --firings_list=/home/jsee/MountainSort/tmp/tempdir_bb587e4d0e_L9cUEn/input_firings_list-1_0jkXehmO.mda --timeseries_list=/home/jsee/MountainSort/tmp/tempdir_bb587e4d0e_L9cUEn/input_timeseries_list-0_TEvRftt8.mda --timeseries_list=/home/jsee/MountainSort/tmp/tempdir_bb587e4d0e_L9cUEn/input_timeseries_list-1_eYohwRwK.mda --dmatrix_out=/home/jsee/MountainSort/tmp/tempdir_bb587e4d0e_L9cUEn/output_dmatrix_out.output_dmatrix_out_55878d226c25dfff0da3d5e24848487cf490d476 --dmatrix_templates_out=/home/jsee/MountainSort/tmp/tempdir_bb587e4d0e_L9cUEn/output_dmatrix_templates_out.output_dmatrix_templates_out_55878d226c25dfff0da3d5e24848487cf490d476 --firings_out=/home/jsee/MountainSort/tmp/tempdir_bb587e4d0e_L9cUEn/output_firings_out.mda --k1_dmatrix_out=/home/jsee/MountainSort/tmp/tempdir_bb587e4d0e_L9cUEn/output_k1_dmatrix_out.output_k1_dmatrix_out_55878d226c25dfff0da3d5e24848487cf490d476 --k2_dmatrix_out=/home/jsee/MountainSort/tmp/tempdir_bb587e4d0e_L9cUEn/output_k2_dmatrix_out.output_k2_dmatrix_out_55878d226c25dfff0da3d5e24848487cf490d476 --time_offsets=0,17164800\u001b[0m\n",
      "\u001b[34mtimeseries_list['/home/jsee/MountainSort/tmp/tempdir_bb587e4d0e_L9cUEn/input_timeseries_list-0_TEvRftt8.mda', '/home/jsee/MountainSort/tmp/tempdir_bb587e4d0e_L9cUEn/input_timeseries_list-1_eYohwRwK.mda']\u001b[0m\n",
      "\u001b[34mfirings_list['/home/jsee/MountainSort/tmp/tempdir_bb587e4d0e_L9cUEn/input_firings_list-0_0K3kM4Ld.mda', '/home/jsee/MountainSort/tmp/tempdir_bb587e4d0e_L9cUEn/input_firings_list-1_0jkXehmO.mda']\u001b[0m\n",
      "\u001b[34mfirings_out/home/jsee/MountainSort/tmp/tempdir_bb587e4d0e_L9cUEn/output_firings_out.mda\u001b[0m\n",
      "\u001b[34mtime_offsets 0,17164800\u001b[0m\n",
      "\u001b[34m1420034 clustered events in segment 0\u001b[0m\n",
      "\u001b[34m984507 clustered events in segment 1\u001b[0m\n",
      "\u001b[34mComputing dmatrix between segments 0 and 1\u001b[0m\n",
      "\u001b[34m\u001b[0m\n",
      "\u001b[34mElapsed time for processor pyms.anneal_segments: 3304.619 sec\u001b[0m\n",
      "\u001b[34mFinalizing output dmatrix_out\u001b[0m\n",
      "\u001b[34mFinalizing output dmatrix_templates_out\u001b[0m\n",
      "\u001b[34mFinalizing output firings_out\u001b[0m\n",
      "\u001b[34mFinalizing output k1_dmatrix_out\u001b[0m\n",
      "\u001b[34mFinalizing output k2_dmatrix_out\u001b[0m\n",
      "\u001b[34m[ Creating output prv for dmatrix_out ... ]\u001b[0m\n",
      "\u001b[34m[ Creating output prv for dmatrix_templates_out ... ]\u001b[0m\n",
      "\u001b[34m[ Creating output prv for k1_dmatrix_out ... ]\u001b[0m\n",
      "\u001b[34m[ Creating output prv for k2_dmatrix_out ... ]\u001b[0m\n",
      "\u001b[34m[ Saving to process cache ... ]\u001b[0m\n",
      "\u001b[34m[ Removing temporary directory ... ]\u001b[0m\n",
      "\u001b[34m[ Done. ]\u001b[0m\n"
     ]
    },
    {
     "data": {
      "application/vnd.jupyter.widget-view+json": {
       "model_id": "8e81480580c04e59ab61f98bd6b9cddf",
       "version_major": 2,
       "version_minor": 0
      },
      "text/plain": [
       "Output()"
      ]
     },
     "metadata": {},
     "output_type": "display_data"
    },
    {
     "name": "stdout",
     "output_type": "stream",
     "text": [
      "Finished pipeline.\n",
      "RUNNING: ml-run-process pyms.anneal_segments --inputs firings_list:/home/jsee/MountainSort/datasets/output/ThalCort/180419_225040-site2-1000um-20db-spon-10min-H2_2x32-fs20000-firings/firings_uncurated.mda firings_list:/home/jsee/MountainSort/datasets/output/ThalCort/180419_230150-site2-1000um-17db-rn1-10min-H2_2x32-fs20000-firings/firings_uncurated.mda timeseries_list:/home/jsee/MountainSort/datasets/output/ThalCort/180419_225040-site2-1000um-20db-spon-10min-H2_2x32-fs20000-firings/pre.mda.prv timeseries_list:/home/jsee/MountainSort/datasets/output/ThalCort/180419_230150-site2-1000um-17db-rn1-10min-H2_2x32-fs20000-firings/pre.mda.prv --parameters time_offsets:0,12512160 --outputs dmatrix_out:/home/jsee/MountainSort/tmp/mountainlab/tmp_short_term/output_dmatrix_out_1659b909fef756df62dfe2a4e9792db217aac354.prv dmatrix_templates_out:/home/jsee/MountainSort/tmp/mountainlab/tmp_short_term/output_dmatrix_templates_out_1659b909fef756df62dfe2a4e9792db217aac354.prv firings_out:/home/jsee/MountainSort/datasets/output/ThalCort/180419_225040-site2-1000um-20db-spon_rn1-20min-H2_2x32-fs20000-firings/firings_uncurated.mda k1_dmatrix_out:/home/jsee/MountainSort/tmp/mountainlab/tmp_short_term/output_k1_dmatrix_out_1659b909fef756df62dfe2a4e9792db217aac354.prv k2_dmatrix_out:/home/jsee/MountainSort/tmp/mountainlab/tmp_short_term/output_k2_dmatrix_out_1659b909fef756df62dfe2a4e9792db217aac354.prv\n",
      "\u001b[34m[ Getting processor spec... ]\u001b[0m\n",
      "\u001b[31m/home/jsee/conda/envs/mlab/lib/python3.6/importlib/_bootstrap.py:219: RuntimeWarning: numpy.dtype size changed, may indicate binary incompatibility. Expected 96, got 88\u001b[0m\n",
      "\u001b[34m[ Checking inputs and substituting prvs ... ]\u001b[0m\n",
      "\u001b[31mreturn f(*args, **kwds)\u001b[0m\n",
      "\u001b[34m[ Computing process signature ... ]\u001b[0m\n",
      "\u001b[31m/home/jsee/conda/envs/mlab/lib/python3.6/importlib/_bootstrap.py:219: RuntimeWarning: numpy.dtype size changed, may indicate binary incompatibility. Expected 96, got 88\u001b[0m\n",
      "\u001b[34mProcess signature: 6bd3aab60629f0cb9b318d561c1896a8081f9256\u001b[0m\n",
      "\u001b[31mreturn f(*args, **kwds)\u001b[0m\n",
      "\u001b[34m[ Checking outputs... ]\u001b[0m\n",
      "\u001b[31m\u001b[0m\n",
      "\u001b[34m{\"dmatrix_out\":\"/home/jsee/MountainSort/tmp/mountainlab/tmp_short_term/output_dmatrix_out_1659b909fef756df62dfe2a4e9792db217aac354.prv\",\"dmatrix_templates_out\":\"/home/jsee/MountainSort/tmp/mountainlab/tmp_short_term/output_dmatrix_templates_out_1659b909fef756df62dfe2a4e9792db217aac354.prv\",\"firings_out\":\"/home/jsee/MountainSort/datasets/output/ThalCort/180419_225040-site2-1000um-20db-spon_rn1-20min-H2_2x32-fs20000-firings/firings_uncurated.mda\",\"k1_dmatrix_out\":\"/home/jsee/MountainSort/tmp/mountainlab/tmp_short_term/output_k1_dmatrix_out_1659b909fef756df62dfe2a4e9792db217aac354.prv\",\"k2_dmatrix_out\":\"/home/jsee/MountainSort/tmp/mountainlab/tmp_short_term/output_k2_dmatrix_out_1659b909fef756df62dfe2a4e9792db217aac354.prv\"}\u001b[0m\n",
      "\u001b[34mProcessing ouput - /home/jsee/MountainSort/tmp/mountainlab/tmp_short_term/output_dmatrix_out_1659b909fef756df62dfe2a4e9792db217aac354.prv\u001b[0m\n",
      "\u001b[34mfalse\u001b[0m\n",
      "\u001b[34m{\"dmatrix_out\":\"/home/jsee/MountainSort/tmp/output_6bd3aab60629f0cb9b318d561c1896a8081f9256_dmatrix_out.output_dmatrix_out_1659b909fef756df62dfe2a4e9792db217aac354\",\"dmatrix_templates_out\":\"/home/jsee/MountainSort/tmp/mountainlab/tmp_short_term/output_dmatrix_templates_out_1659b909fef756df62dfe2a4e9792db217aac354.prv\",\"firings_out\":\"/home/jsee/MountainSort/datasets/output/ThalCort/180419_225040-site2-1000um-20db-spon_rn1-20min-H2_2x32-fs20000-firings/firings_uncurated.mda\",\"k1_dmatrix_out\":\"/home/jsee/MountainSort/tmp/mountainlab/tmp_short_term/output_k1_dmatrix_out_1659b909fef756df62dfe2a4e9792db217aac354.prv\",\"k2_dmatrix_out\":\"/home/jsee/MountainSort/tmp/mountainlab/tmp_short_term/output_k2_dmatrix_out_1659b909fef756df62dfe2a4e9792db217aac354.prv\"}\u001b[0m\n",
      "\u001b[34mProcessing ouput - /home/jsee/MountainSort/tmp/mountainlab/tmp_short_term/output_dmatrix_templates_out_1659b909fef756df62dfe2a4e9792db217aac354.prv\u001b[0m\n",
      "\u001b[34mfalse\u001b[0m\n",
      "\u001b[34m{\"dmatrix_out\":\"/home/jsee/MountainSort/tmp/output_6bd3aab60629f0cb9b318d561c1896a8081f9256_dmatrix_out.output_dmatrix_out_1659b909fef756df62dfe2a4e9792db217aac354\",\"dmatrix_templates_out\":\"/home/jsee/MountainSort/tmp/output_6bd3aab60629f0cb9b318d561c1896a8081f9256_dmatrix_templates_out.output_dmatrix_templates_out_1659b909fef756df62dfe2a4e9792db217aac354\",\"firings_out\":\"/home/jsee/MountainSort/datasets/output/ThalCort/180419_225040-site2-1000um-20db-spon_rn1-20min-H2_2x32-fs20000-firings/firings_uncurated.mda\",\"k1_dmatrix_out\":\"/home/jsee/MountainSort/tmp/mountainlab/tmp_short_term/output_k1_dmatrix_out_1659b909fef756df62dfe2a4e9792db217aac354.prv\",\"k2_dmatrix_out\":\"/home/jsee/MountainSort/tmp/mountainlab/tmp_short_term/output_k2_dmatrix_out_1659b909fef756df62dfe2a4e9792db217aac354.prv\"}\u001b[0m\n",
      "\u001b[34mProcessing ouput - /home/jsee/MountainSort/datasets/output/ThalCort/180419_225040-site2-1000um-20db-spon_rn1-20min-H2_2x32-fs20000-firings/firings_uncurated.mda\u001b[0m\n",
      "\u001b[34mfalse\u001b[0m\n",
      "\u001b[34m{\"dmatrix_out\":\"/home/jsee/MountainSort/tmp/output_6bd3aab60629f0cb9b318d561c1896a8081f9256_dmatrix_out.output_dmatrix_out_1659b909fef756df62dfe2a4e9792db217aac354\",\"dmatrix_templates_out\":\"/home/jsee/MountainSort/tmp/output_6bd3aab60629f0cb9b318d561c1896a8081f9256_dmatrix_templates_out.output_dmatrix_templates_out_1659b909fef756df62dfe2a4e9792db217aac354\",\"firings_out\":\"/home/jsee/MountainSort/datasets/output/ThalCort/180419_225040-site2-1000um-20db-spon_rn1-20min-H2_2x32-fs20000-firings/firings_uncurated.mda\",\"k1_dmatrix_out\":\"/home/jsee/MountainSort/tmp/mountainlab/tmp_short_term/output_k1_dmatrix_out_1659b909fef756df62dfe2a4e9792db217aac354.prv\",\"k2_dmatrix_out\":\"/home/jsee/MountainSort/tmp/mountainlab/tmp_short_term/output_k2_dmatrix_out_1659b909fef756df62dfe2a4e9792db217aac354.prv\"}\u001b[0m\n",
      "\u001b[34mProcessing ouput - /home/jsee/MountainSort/tmp/mountainlab/tmp_short_term/output_k1_dmatrix_out_1659b909fef756df62dfe2a4e9792db217aac354.prv\u001b[0m\n",
      "\u001b[34mfalse\u001b[0m\n",
      "\u001b[34m{\"dmatrix_out\":\"/home/jsee/MountainSort/tmp/output_6bd3aab60629f0cb9b318d561c1896a8081f9256_dmatrix_out.output_dmatrix_out_1659b909fef756df62dfe2a4e9792db217aac354\",\"dmatrix_templates_out\":\"/home/jsee/MountainSort/tmp/output_6bd3aab60629f0cb9b318d561c1896a8081f9256_dmatrix_templates_out.output_dmatrix_templates_out_1659b909fef756df62dfe2a4e9792db217aac354\",\"firings_out\":\"/home/jsee/MountainSort/datasets/output/ThalCort/180419_225040-site2-1000um-20db-spon_rn1-20min-H2_2x32-fs20000-firings/firings_uncurated.mda\",\"k1_dmatrix_out\":\"/home/jsee/MountainSort/tmp/output_6bd3aab60629f0cb9b318d561c1896a8081f9256_k1_dmatrix_out.output_k1_dmatrix_out_1659b909fef756df62dfe2a4e9792db217aac354\",\"k2_dmatrix_out\":\"/home/jsee/MountainSort/tmp/mountainlab/tmp_short_term/output_k2_dmatrix_out_1659b909fef756df62dfe2a4e9792db217aac354.prv\"}\u001b[0m\n",
      "\u001b[34mProcessing ouput - /home/jsee/MountainSort/tmp/mountainlab/tmp_short_term/output_k2_dmatrix_out_1659b909fef756df62dfe2a4e9792db217aac354.prv\u001b[0m\n",
      "\u001b[34mfalse\u001b[0m\n",
      "\u001b[34m{\"dmatrix_out\":\"/home/jsee/MountainSort/tmp/output_6bd3aab60629f0cb9b318d561c1896a8081f9256_dmatrix_out.output_dmatrix_out_1659b909fef756df62dfe2a4e9792db217aac354\",\"dmatrix_templates_out\":\"/home/jsee/MountainSort/tmp/output_6bd3aab60629f0cb9b318d561c1896a8081f9256_dmatrix_templates_out.output_dmatrix_templates_out_1659b909fef756df62dfe2a4e9792db217aac354\",\"firings_out\":\"/home/jsee/MountainSort/datasets/output/ThalCort/180419_225040-site2-1000um-20db-spon_rn1-20min-H2_2x32-fs20000-firings/firings_uncurated.mda\",\"k1_dmatrix_out\":\"/home/jsee/MountainSort/tmp/output_6bd3aab60629f0cb9b318d561c1896a8081f9256_k1_dmatrix_out.output_k1_dmatrix_out_1659b909fef756df62dfe2a4e9792db217aac354\",\"k2_dmatrix_out\":\"/home/jsee/MountainSort/tmp/output_6bd3aab60629f0cb9b318d561c1896a8081f9256_k2_dmatrix_out.output_k2_dmatrix_out_1659b909fef756df62dfe2a4e9792db217aac354\"}\u001b[0m\n",
      "\u001b[34m[ Checking process cache ... ]\u001b[0m\n",
      "\u001b[34m[ Creating temporary directory ... ]\u001b[0m\n",
      "\u001b[34m[ Creating links to input files... ]\u001b[0m\n",
      "\u001b[34m[ Preparing temporary outputs... ]\u001b[0m\n",
      "\u001b[34mProcessing ouput - /home/jsee/MountainSort/tmp/output_6bd3aab60629f0cb9b318d561c1896a8081f9256_dmatrix_out.output_dmatrix_out_1659b909fef756df62dfe2a4e9792db217aac354\u001b[0m\n",
      "\u001b[34mfalse\u001b[0m\n",
      "\u001b[34mProcessing ouput - /home/jsee/MountainSort/tmp/output_6bd3aab60629f0cb9b318d561c1896a8081f9256_dmatrix_templates_out.output_dmatrix_templates_out_1659b909fef756df62dfe2a4e9792db217aac354\u001b[0m\n",
      "\u001b[34mfalse\u001b[0m\n",
      "\u001b[34mProcessing ouput - /home/jsee/MountainSort/datasets/output/ThalCort/180419_225040-site2-1000um-20db-spon_rn1-20min-H2_2x32-fs20000-firings/firings_uncurated.mda\u001b[0m\n",
      "\u001b[34mfalse\u001b[0m\n",
      "\u001b[34mProcessing ouput - /home/jsee/MountainSort/tmp/output_6bd3aab60629f0cb9b318d561c1896a8081f9256_k1_dmatrix_out.output_k1_dmatrix_out_1659b909fef756df62dfe2a4e9792db217aac354\u001b[0m\n",
      "\u001b[34mfalse\u001b[0m\n",
      "\u001b[34mProcessing ouput - /home/jsee/MountainSort/tmp/output_6bd3aab60629f0cb9b318d561c1896a8081f9256_k2_dmatrix_out.output_k2_dmatrix_out_1659b909fef756df62dfe2a4e9792db217aac354\u001b[0m\n",
      "\u001b[34mfalse\u001b[0m\n",
      "\u001b[34m[ Initializing process ... ]\u001b[0m\n",
      "\u001b[34m[ Running ... ] /home/jsee/conda/envs/mlab/bin/python3 /home/jsee/.mountainlab/packages/franklab-franklab_msdrift-f950485710c2/python/drift.py pyms.anneal_segments --_tempdir=/home/jsee/MountainSort/tmp/tempdir_6bd3aab606_Xk6CWd --firings_list=/home/jsee/MountainSort/tmp/tempdir_6bd3aab606_Xk6CWd/input_firings_list-0_cRkeIl7I.mda --firings_list=/home/jsee/MountainSort/tmp/tempdir_6bd3aab606_Xk6CWd/input_firings_list-1_9OwzJDER.mda --timeseries_list=/home/jsee/MountainSort/tmp/tempdir_6bd3aab606_Xk6CWd/input_timeseries_list-0_TxLsVcUm.mda --timeseries_list=/home/jsee/MountainSort/tmp/tempdir_6bd3aab606_Xk6CWd/input_timeseries_list-1_6J7fDYQn.mda --dmatrix_out=/home/jsee/MountainSort/tmp/tempdir_6bd3aab606_Xk6CWd/output_dmatrix_out.output_dmatrix_out_1659b909fef756df62dfe2a4e9792db217aac354 --dmatrix_templates_out=/home/jsee/MountainSort/tmp/tempdir_6bd3aab606_Xk6CWd/output_dmatrix_templates_out.output_dmatrix_templates_out_1659b909fef756df62dfe2a4e9792db217aac354 --firings_out=/home/jsee/MountainSort/tmp/tempdir_6bd3aab606_Xk6CWd/output_firings_out.mda --k1_dmatrix_out=/home/jsee/MountainSort/tmp/tempdir_6bd3aab606_Xk6CWd/output_k1_dmatrix_out.output_k1_dmatrix_out_1659b909fef756df62dfe2a4e9792db217aac354 --k2_dmatrix_out=/home/jsee/MountainSort/tmp/tempdir_6bd3aab606_Xk6CWd/output_k2_dmatrix_out.output_k2_dmatrix_out_1659b909fef756df62dfe2a4e9792db217aac354 --time_offsets=0,12512160\u001b[0m\n",
      "\u001b[34mtimeseries_list['/home/jsee/MountainSort/tmp/tempdir_6bd3aab606_Xk6CWd/input_timeseries_list-0_TxLsVcUm.mda', '/home/jsee/MountainSort/tmp/tempdir_6bd3aab606_Xk6CWd/input_timeseries_list-1_6J7fDYQn.mda']\u001b[0m\n",
      "\u001b[34mfirings_list['/home/jsee/MountainSort/tmp/tempdir_6bd3aab606_Xk6CWd/input_firings_list-0_cRkeIl7I.mda', '/home/jsee/MountainSort/tmp/tempdir_6bd3aab606_Xk6CWd/input_firings_list-1_9OwzJDER.mda']\u001b[0m\n",
      "\u001b[34mfirings_out/home/jsee/MountainSort/tmp/tempdir_6bd3aab606_Xk6CWd/output_firings_out.mda\u001b[0m\n",
      "\u001b[34mtime_offsets 0,12512160\u001b[0m\n",
      "\u001b[34m1127765 clustered events in segment 0\u001b[0m\n",
      "\u001b[34m1131891 clustered events in segment 1\u001b[0m\n",
      "\u001b[34mComputing dmatrix between segments 0 and 1\u001b[0m\n",
      "\u001b[34m\u001b[0m\n",
      "\u001b[34mElapsed time for processor pyms.anneal_segments: 3793.057 sec\u001b[0m\n",
      "\u001b[34mFinalizing output dmatrix_out\u001b[0m\n",
      "\u001b[34mFinalizing output dmatrix_templates_out\u001b[0m\n",
      "\u001b[34mFinalizing output firings_out\u001b[0m\n",
      "\u001b[34mFinalizing output k1_dmatrix_out\u001b[0m\n",
      "\u001b[34mFinalizing output k2_dmatrix_out\u001b[0m\n",
      "\u001b[34m[ Creating output prv for dmatrix_out ... ]\u001b[0m\n",
      "\u001b[34m[ Creating output prv for dmatrix_templates_out ... ]\u001b[0m\n",
      "\u001b[34m[ Creating output prv for k1_dmatrix_out ... ]\u001b[0m\n",
      "\u001b[34m[ Creating output prv for k2_dmatrix_out ... ]\u001b[0m\n",
      "\u001b[34m[ Saving to process cache ... ]\u001b[0m\n",
      "\u001b[34m[ Removing temporary directory ... ]\u001b[0m\n",
      "\u001b[34m[ Done. ]\u001b[0m\n"
     ]
    },
    {
     "data": {
      "application/vnd.jupyter.widget-view+json": {
       "model_id": "b0b5a0f18f574ba7bf379b9818a237f5",
       "version_major": 2,
       "version_minor": 0
      },
      "text/plain": [
       "Output()"
      ]
     },
     "metadata": {},
     "output_type": "display_data"
    },
    {
     "name": "stdout",
     "output_type": "stream",
     "text": [
      "Finished pipeline.\n",
      "RUNNING: ml-run-process pyms.anneal_segments --inputs firings_list:/home/jsee/MountainSort/datasets/output/ThalCort/180420_012413-site3-1041um-20db-spon-11min-H2_2x32-fs20000-firings/firings_uncurated.mda firings_list:/home/jsee/MountainSort/datasets/output/ThalCort/180420_013515-site3-1041um-17db-rn1-10min-H2_2x32-fs20000-firings/firings_uncurated.mda timeseries_list:/home/jsee/MountainSort/datasets/output/ThalCort/180420_012413-site3-1041um-20db-spon-11min-H2_2x32-fs20000-firings/pre.mda.prv timeseries_list:/home/jsee/MountainSort/datasets/output/ThalCort/180420_013515-site3-1041um-17db-rn1-10min-H2_2x32-fs20000-firings/pre.mda.prv --parameters time_offsets:0,12713040 --outputs dmatrix_out:/home/jsee/MountainSort/tmp/mountainlab/tmp_short_term/output_dmatrix_out_ffacfceef8115ee052a4c322b294080523ef8272.prv dmatrix_templates_out:/home/jsee/MountainSort/tmp/mountainlab/tmp_short_term/output_dmatrix_templates_out_ffacfceef8115ee052a4c322b294080523ef8272.prv firings_out:/home/jsee/MountainSort/datasets/output/ThalCort/180420_012413-site3-1041um-20db-spon_rn1-21min-H2_2x32-fs20000-firings/firings_uncurated.mda k1_dmatrix_out:/home/jsee/MountainSort/tmp/mountainlab/tmp_short_term/output_k1_dmatrix_out_ffacfceef8115ee052a4c322b294080523ef8272.prv k2_dmatrix_out:/home/jsee/MountainSort/tmp/mountainlab/tmp_short_term/output_k2_dmatrix_out_ffacfceef8115ee052a4c322b294080523ef8272.prv\n",
      "\u001b[34m[ Getting processor spec... ]\u001b[0m\n",
      "\u001b[31m/home/jsee/conda/envs/mlab/lib/python3.6/importlib/_bootstrap.py:219: RuntimeWarning: numpy.dtype size changed, may indicate binary incompatibility. Expected 96, got 88\u001b[0m\n",
      "\u001b[34m[ Checking inputs and substituting prvs ... ]\u001b[0m\n",
      "\u001b[31mreturn f(*args, **kwds)\u001b[0m\n",
      "\u001b[34m[ Computing process signature ... ]\u001b[0m\n",
      "\u001b[31m/home/jsee/conda/envs/mlab/lib/python3.6/importlib/_bootstrap.py:219: RuntimeWarning: numpy.dtype size changed, may indicate binary incompatibility. Expected 96, got 88\u001b[0m\n",
      "\u001b[34mProcess signature: 856598535de18b627d4acc23b135322b95638d8a\u001b[0m\n",
      "\u001b[31mreturn f(*args, **kwds)\u001b[0m\n",
      "\u001b[34m[ Checking outputs... ]\u001b[0m\n",
      "\u001b[31m\u001b[0m\n",
      "\u001b[34m{\"dmatrix_out\":\"/home/jsee/MountainSort/tmp/mountainlab/tmp_short_term/output_dmatrix_out_ffacfceef8115ee052a4c322b294080523ef8272.prv\",\"dmatrix_templates_out\":\"/home/jsee/MountainSort/tmp/mountainlab/tmp_short_term/output_dmatrix_templates_out_ffacfceef8115ee052a4c322b294080523ef8272.prv\",\"firings_out\":\"/home/jsee/MountainSort/datasets/output/ThalCort/180420_012413-site3-1041um-20db-spon_rn1-21min-H2_2x32-fs20000-firings/firings_uncurated.mda\",\"k1_dmatrix_out\":\"/home/jsee/MountainSort/tmp/mountainlab/tmp_short_term/output_k1_dmatrix_out_ffacfceef8115ee052a4c322b294080523ef8272.prv\",\"k2_dmatrix_out\":\"/home/jsee/MountainSort/tmp/mountainlab/tmp_short_term/output_k2_dmatrix_out_ffacfceef8115ee052a4c322b294080523ef8272.prv\"}\u001b[0m\n",
      "\u001b[34mProcessing ouput - /home/jsee/MountainSort/tmp/mountainlab/tmp_short_term/output_dmatrix_out_ffacfceef8115ee052a4c322b294080523ef8272.prv\u001b[0m\n",
      "\u001b[34mfalse\u001b[0m\n",
      "\u001b[34m{\"dmatrix_out\":\"/home/jsee/MountainSort/tmp/output_856598535de18b627d4acc23b135322b95638d8a_dmatrix_out.output_dmatrix_out_ffacfceef8115ee052a4c322b294080523ef8272\",\"dmatrix_templates_out\":\"/home/jsee/MountainSort/tmp/mountainlab/tmp_short_term/output_dmatrix_templates_out_ffacfceef8115ee052a4c322b294080523ef8272.prv\",\"firings_out\":\"/home/jsee/MountainSort/datasets/output/ThalCort/180420_012413-site3-1041um-20db-spon_rn1-21min-H2_2x32-fs20000-firings/firings_uncurated.mda\",\"k1_dmatrix_out\":\"/home/jsee/MountainSort/tmp/mountainlab/tmp_short_term/output_k1_dmatrix_out_ffacfceef8115ee052a4c322b294080523ef8272.prv\",\"k2_dmatrix_out\":\"/home/jsee/MountainSort/tmp/mountainlab/tmp_short_term/output_k2_dmatrix_out_ffacfceef8115ee052a4c322b294080523ef8272.prv\"}\u001b[0m\n",
      "\u001b[34mProcessing ouput - /home/jsee/MountainSort/tmp/mountainlab/tmp_short_term/output_dmatrix_templates_out_ffacfceef8115ee052a4c322b294080523ef8272.prv\u001b[0m\n",
      "\u001b[34mfalse\u001b[0m\n",
      "\u001b[34m{\"dmatrix_out\":\"/home/jsee/MountainSort/tmp/output_856598535de18b627d4acc23b135322b95638d8a_dmatrix_out.output_dmatrix_out_ffacfceef8115ee052a4c322b294080523ef8272\",\"dmatrix_templates_out\":\"/home/jsee/MountainSort/tmp/output_856598535de18b627d4acc23b135322b95638d8a_dmatrix_templates_out.output_dmatrix_templates_out_ffacfceef8115ee052a4c322b294080523ef8272\",\"firings_out\":\"/home/jsee/MountainSort/datasets/output/ThalCort/180420_012413-site3-1041um-20db-spon_rn1-21min-H2_2x32-fs20000-firings/firings_uncurated.mda\",\"k1_dmatrix_out\":\"/home/jsee/MountainSort/tmp/mountainlab/tmp_short_term/output_k1_dmatrix_out_ffacfceef8115ee052a4c322b294080523ef8272.prv\",\"k2_dmatrix_out\":\"/home/jsee/MountainSort/tmp/mountainlab/tmp_short_term/output_k2_dmatrix_out_ffacfceef8115ee052a4c322b294080523ef8272.prv\"}\u001b[0m\n",
      "\u001b[34mProcessing ouput - /home/jsee/MountainSort/datasets/output/ThalCort/180420_012413-site3-1041um-20db-spon_rn1-21min-H2_2x32-fs20000-firings/firings_uncurated.mda\u001b[0m\n",
      "\u001b[34mfalse\u001b[0m\n",
      "\u001b[34m{\"dmatrix_out\":\"/home/jsee/MountainSort/tmp/output_856598535de18b627d4acc23b135322b95638d8a_dmatrix_out.output_dmatrix_out_ffacfceef8115ee052a4c322b294080523ef8272\",\"dmatrix_templates_out\":\"/home/jsee/MountainSort/tmp/output_856598535de18b627d4acc23b135322b95638d8a_dmatrix_templates_out.output_dmatrix_templates_out_ffacfceef8115ee052a4c322b294080523ef8272\",\"firings_out\":\"/home/jsee/MountainSort/datasets/output/ThalCort/180420_012413-site3-1041um-20db-spon_rn1-21min-H2_2x32-fs20000-firings/firings_uncurated.mda\",\"k1_dmatrix_out\":\"/home/jsee/MountainSort/tmp/mountainlab/tmp_short_term/output_k1_dmatrix_out_ffacfceef8115ee052a4c322b294080523ef8272.prv\",\"k2_dmatrix_out\":\"/home/jsee/MountainSort/tmp/mountainlab/tmp_short_term/output_k2_dmatrix_out_ffacfceef8115ee052a4c322b294080523ef8272.prv\"}\u001b[0m\n",
      "\u001b[34mProcessing ouput - /home/jsee/MountainSort/tmp/mountainlab/tmp_short_term/output_k1_dmatrix_out_ffacfceef8115ee052a4c322b294080523ef8272.prv\u001b[0m\n",
      "\u001b[34mfalse\u001b[0m\n",
      "\u001b[34m{\"dmatrix_out\":\"/home/jsee/MountainSort/tmp/output_856598535de18b627d4acc23b135322b95638d8a_dmatrix_out.output_dmatrix_out_ffacfceef8115ee052a4c322b294080523ef8272\",\"dmatrix_templates_out\":\"/home/jsee/MountainSort/tmp/output_856598535de18b627d4acc23b135322b95638d8a_dmatrix_templates_out.output_dmatrix_templates_out_ffacfceef8115ee052a4c322b294080523ef8272\",\"firings_out\":\"/home/jsee/MountainSort/datasets/output/ThalCort/180420_012413-site3-1041um-20db-spon_rn1-21min-H2_2x32-fs20000-firings/firings_uncurated.mda\",\"k1_dmatrix_out\":\"/home/jsee/MountainSort/tmp/output_856598535de18b627d4acc23b135322b95638d8a_k1_dmatrix_out.output_k1_dmatrix_out_ffacfceef8115ee052a4c322b294080523ef8272\",\"k2_dmatrix_out\":\"/home/jsee/MountainSort/tmp/mountainlab/tmp_short_term/output_k2_dmatrix_out_ffacfceef8115ee052a4c322b294080523ef8272.prv\"}\u001b[0m\n",
      "\u001b[34mProcessing ouput - /home/jsee/MountainSort/tmp/mountainlab/tmp_short_term/output_k2_dmatrix_out_ffacfceef8115ee052a4c322b294080523ef8272.prv\u001b[0m\n",
      "\u001b[34mfalse\u001b[0m\n",
      "\u001b[34m{\"dmatrix_out\":\"/home/jsee/MountainSort/tmp/output_856598535de18b627d4acc23b135322b95638d8a_dmatrix_out.output_dmatrix_out_ffacfceef8115ee052a4c322b294080523ef8272\",\"dmatrix_templates_out\":\"/home/jsee/MountainSort/tmp/output_856598535de18b627d4acc23b135322b95638d8a_dmatrix_templates_out.output_dmatrix_templates_out_ffacfceef8115ee052a4c322b294080523ef8272\",\"firings_out\":\"/home/jsee/MountainSort/datasets/output/ThalCort/180420_012413-site3-1041um-20db-spon_rn1-21min-H2_2x32-fs20000-firings/firings_uncurated.mda\",\"k1_dmatrix_out\":\"/home/jsee/MountainSort/tmp/output_856598535de18b627d4acc23b135322b95638d8a_k1_dmatrix_out.output_k1_dmatrix_out_ffacfceef8115ee052a4c322b294080523ef8272\",\"k2_dmatrix_out\":\"/home/jsee/MountainSort/tmp/output_856598535de18b627d4acc23b135322b95638d8a_k2_dmatrix_out.output_k2_dmatrix_out_ffacfceef8115ee052a4c322b294080523ef8272\"}\u001b[0m\n",
      "\u001b[34m[ Checking process cache ... ]\u001b[0m\n",
      "\u001b[34m[ Creating temporary directory ... ]\u001b[0m\n",
      "\u001b[34m[ Creating links to input files... ]\u001b[0m\n",
      "\u001b[34m[ Preparing temporary outputs... ]\u001b[0m\n",
      "\u001b[34mProcessing ouput - /home/jsee/MountainSort/tmp/output_856598535de18b627d4acc23b135322b95638d8a_dmatrix_out.output_dmatrix_out_ffacfceef8115ee052a4c322b294080523ef8272\u001b[0m\n",
      "\u001b[34mfalse\u001b[0m\n",
      "\u001b[34mProcessing ouput - /home/jsee/MountainSort/tmp/output_856598535de18b627d4acc23b135322b95638d8a_dmatrix_templates_out.output_dmatrix_templates_out_ffacfceef8115ee052a4c322b294080523ef8272\u001b[0m\n",
      "\u001b[34mfalse\u001b[0m\n",
      "\u001b[34mProcessing ouput - /home/jsee/MountainSort/datasets/output/ThalCort/180420_012413-site3-1041um-20db-spon_rn1-21min-H2_2x32-fs20000-firings/firings_uncurated.mda\u001b[0m\n",
      "\u001b[34mfalse\u001b[0m\n",
      "\u001b[34mProcessing ouput - /home/jsee/MountainSort/tmp/output_856598535de18b627d4acc23b135322b95638d8a_k1_dmatrix_out.output_k1_dmatrix_out_ffacfceef8115ee052a4c322b294080523ef8272\u001b[0m\n",
      "\u001b[34mfalse\u001b[0m\n",
      "\u001b[34mProcessing ouput - /home/jsee/MountainSort/tmp/output_856598535de18b627d4acc23b135322b95638d8a_k2_dmatrix_out.output_k2_dmatrix_out_ffacfceef8115ee052a4c322b294080523ef8272\u001b[0m\n",
      "\u001b[34mfalse\u001b[0m\n",
      "\u001b[34m[ Initializing process ... ]\u001b[0m\n",
      "\u001b[34m[ Running ... ] /home/jsee/conda/envs/mlab/bin/python3 /home/jsee/.mountainlab/packages/franklab-franklab_msdrift-f950485710c2/python/drift.py pyms.anneal_segments --_tempdir=/home/jsee/MountainSort/tmp/tempdir_856598535d_WVbhPe --firings_list=/home/jsee/MountainSort/tmp/tempdir_856598535d_WVbhPe/input_firings_list-0_qbf5TVcJ.mda --firings_list=/home/jsee/MountainSort/tmp/tempdir_856598535d_WVbhPe/input_firings_list-1_FRLmb7mO.mda --timeseries_list=/home/jsee/MountainSort/tmp/tempdir_856598535d_WVbhPe/input_timeseries_list-0_DIz3nXhC.mda --timeseries_list=/home/jsee/MountainSort/tmp/tempdir_856598535d_WVbhPe/input_timeseries_list-1_NuZDe8tr.mda --dmatrix_out=/home/jsee/MountainSort/tmp/tempdir_856598535d_WVbhPe/output_dmatrix_out.output_dmatrix_out_ffacfceef8115ee052a4c322b294080523ef8272 --dmatrix_templates_out=/home/jsee/MountainSort/tmp/tempdir_856598535d_WVbhPe/output_dmatrix_templates_out.output_dmatrix_templates_out_ffacfceef8115ee052a4c322b294080523ef8272 --firings_out=/home/jsee/MountainSort/tmp/tempdir_856598535d_WVbhPe/output_firings_out.mda --k1_dmatrix_out=/home/jsee/MountainSort/tmp/tempdir_856598535d_WVbhPe/output_k1_dmatrix_out.output_k1_dmatrix_out_ffacfceef8115ee052a4c322b294080523ef8272 --k2_dmatrix_out=/home/jsee/MountainSort/tmp/tempdir_856598535d_WVbhPe/output_k2_dmatrix_out.output_k2_dmatrix_out_ffacfceef8115ee052a4c322b294080523ef8272 --time_offsets=0,12713040\u001b[0m\n",
      "\u001b[34mtimeseries_list['/home/jsee/MountainSort/tmp/tempdir_856598535d_WVbhPe/input_timeseries_list-0_DIz3nXhC.mda', '/home/jsee/MountainSort/tmp/tempdir_856598535d_WVbhPe/input_timeseries_list-1_NuZDe8tr.mda']\u001b[0m\n",
      "\u001b[34mfirings_list['/home/jsee/MountainSort/tmp/tempdir_856598535d_WVbhPe/input_firings_list-0_qbf5TVcJ.mda', '/home/jsee/MountainSort/tmp/tempdir_856598535d_WVbhPe/input_firings_list-1_FRLmb7mO.mda']\u001b[0m\n",
      "\u001b[34mfirings_out/home/jsee/MountainSort/tmp/tempdir_856598535d_WVbhPe/output_firings_out.mda\u001b[0m\n",
      "\u001b[34mtime_offsets 0,12713040\u001b[0m\n",
      "\u001b[34m1009313 clustered events in segment 0\u001b[0m\n",
      "\u001b[34m980456 clustered events in segment 1\u001b[0m\n",
      "\u001b[34mComputing dmatrix between segments 0 and 1\u001b[0m\n",
      "\u001b[34m\u001b[0m\n",
      "\u001b[34mElapsed time for processor pyms.anneal_segments: 4574.135 sec\u001b[0m\n",
      "\u001b[34mFinalizing output dmatrix_out\u001b[0m\n",
      "\u001b[34mFinalizing output dmatrix_templates_out\u001b[0m\n",
      "\u001b[34mFinalizing output firings_out\u001b[0m\n",
      "\u001b[34mFinalizing output k1_dmatrix_out\u001b[0m\n",
      "\u001b[34mFinalizing output k2_dmatrix_out\u001b[0m\n",
      "\u001b[34m[ Creating output prv for dmatrix_out ... ]\u001b[0m\n",
      "\u001b[34m[ Creating output prv for dmatrix_templates_out ... ]\u001b[0m\n",
      "\u001b[34m[ Creating output prv for k1_dmatrix_out ... ]\u001b[0m\n",
      "\u001b[34m[ Creating output prv for k2_dmatrix_out ... ]\u001b[0m\n",
      "\u001b[34m[ Saving to process cache ... ]\u001b[0m\n",
      "\u001b[34m[ Removing temporary directory ... ]\u001b[0m\n",
      "\u001b[34m[ Done. ]\u001b[0m\n"
     ]
    },
    {
     "data": {
      "application/vnd.jupyter.widget-view+json": {
       "model_id": "e5a49feba9664872b4fcdeaa272985e1",
       "version_major": 2,
       "version_minor": 0
      },
      "text/plain": [
       "Output()"
      ]
     },
     "metadata": {},
     "output_type": "display_data"
    },
    {
     "name": "stdout",
     "output_type": "stream",
     "text": [
      "Finished pipeline.\n"
     ]
    }
   ],
   "source": [
    "for cf, tl, fl, os in zip(combinedfolders, timeseries_list, firings_list, offsets):\n",
    "    with Pipeline:\n",
    "        ms4.sort_dataset_segments_part2(cf, tl, fl, os)\n",
    "    "
   ]
  },
  {
   "cell_type": "code",
   "execution_count": 14,
   "metadata": {},
   "outputs": [
    {
     "data": {
      "application/vnd.jupyter.widget-view+json": {
       "model_id": "928e4d633dad43629dc2181b14b7bd43",
       "version_major": 2,
       "version_minor": 0
      },
      "text/plain": [
       "Output()"
      ]
     },
     "metadata": {},
     "output_type": "display_data"
    },
    {
     "name": "stdout",
     "output_type": "stream",
     "text": [
      "Finished pipeline.\n"
     ]
    },
    {
     "data": {
      "application/vnd.jupyter.widget-view+json": {
       "model_id": "c3d051c5467f43648b9b0ef6b886334b",
       "version_major": 2,
       "version_minor": 0
      },
      "text/plain": [
       "Output()"
      ]
     },
     "metadata": {},
     "output_type": "display_data"
    },
    {
     "name": "stdout",
     "output_type": "stream",
     "text": [
      "Finished pipeline.\n"
     ]
    },
    {
     "data": {
      "application/vnd.jupyter.widget-view+json": {
       "model_id": "dececf4d004c408ca31755fab58f36d3",
       "version_major": 2,
       "version_minor": 0
      },
      "text/plain": [
       "Output()"
      ]
     },
     "metadata": {},
     "output_type": "display_data"
    },
    {
     "name": "stdout",
     "output_type": "stream",
     "text": [
      "Finished pipeline.\n"
     ]
    }
   ],
   "source": [
    "for cf in combinedfolders:\n",
    "    with Pipeline:\n",
    "        ms4.sort_dataset_segments_part3(cf)"
   ]
  },
  {
   "cell_type": "code",
   "execution_count": 16,
   "metadata": {},
   "outputs": [
    {
     "name": "stdout",
     "output_type": "stream",
     "text": [
      "Transferring output files...\n",
      "/\n",
      "t\n",
      "m\n",
      "p\n",
      "/\n",
      ".\n",
      "x\n",
      "2\n",
      "g\n",
      "o\n",
      "-\n",
      "j\n",
      "s\n",
      "e\n",
      "e\n",
      "/\n",
      "m\n",
      "e\n",
      "d\n",
      "i\n",
      "a\n",
      "/\n",
      "d\n",
      "i\n",
      "s\n",
      "k\n",
      "/\n",
      "_\n",
      "c\n",
      "y\n",
      "g\n",
      "d\n",
      "r\n",
      "i\n",
      "v\n",
      "e\n",
      "_\n",
      "C\n",
      "_\n",
      "U\n",
      "s\n",
      "e\n",
      "r\n",
      "s\n",
      "_\n",
      "J\n",
      "e\n",
      "r\n",
      "m\n",
      "y\n",
      "n\n",
      "_\n",
      "B\n",
      "A\n",
      "N\n",
      "S\n",
      "H\n",
      "E\n",
      "1\n",
      "/\n",
      "M\n",
      "S\n",
      "R\n",
      "e\n",
      "s\n",
      "u\n",
      "l\n",
      "t\n",
      "s\n",
      "/\n",
      "T\n",
      "h\n",
      "a\n",
      "l\n",
      "C\n",
      "o\n",
      "r\n",
      "t\n",
      "/home/jsee/MountainSort/datasets/output/ThalCort/180419_200353-site1-1010um-20db-spon_rn1-24min-H2_2x32-fs20000-firings\n",
      "/home/jsee/MountainSort/datasets/output/ThalCort/180419_225040-site2-1000um-20db-spon_rn1-20min-H2_2x32-fs20000-firings\n",
      "/home/jsee/MountainSort/datasets/output/ThalCort/180420_012413-site3-1041um-20db-spon_rn1-21min-H2_2x32-fs20000-firings\n"
     ]
    },
    {
     "data": {
      "text/plain": [
       "[None, None, None]"
      ]
     },
     "execution_count": 16,
     "metadata": {},
     "output_type": "execute_result"
    }
   ],
   "source": [
    "msb.copy_output_to_shared_folder(resultsfolder, combinedfolders)\n",
    "[print(i) for i in resultsfolder]\n",
    "[print(i) for i in combinedfolders]"
   ]
  },
  {
   "cell_type": "code",
   "execution_count": null,
   "metadata": {},
   "outputs": [],
   "source": []
  }
 ],
 "metadata": {
  "kernelspec": {
   "display_name": "Python 3",
   "language": "python",
   "name": "python3"
  },
  "language_info": {
   "codemirror_mode": {
    "name": "ipython",
    "version": 3
   },
   "file_extension": ".py",
   "mimetype": "text/x-python",
   "name": "python",
   "nbconvert_exporter": "python",
   "pygments_lexer": "ipython3",
   "version": "3.6.6"
  }
 },
 "nbformat": 4,
 "nbformat_minor": 2
}
